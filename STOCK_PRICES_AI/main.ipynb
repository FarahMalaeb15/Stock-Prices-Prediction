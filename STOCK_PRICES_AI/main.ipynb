{
 "cells": [
  {
   "cell_type": "markdown",
   "id": "3cf7e4a8-4fc4-4e4d-a9a7-7bfe23e9707e",
   "metadata": {},
   "source": [
    "### DIAA MALAEB - INTRODUCTION TO AI FINAL PROJECT\n",
    "\n",
    "### PROJECT: PREDICTING STOCK PRICES "
   ]
  },
  {
   "cell_type": "code",
   "execution_count": 1,
   "id": "46db3661-4b38-4652-b10a-86477e9d06a4",
   "metadata": {},
   "outputs": [],
   "source": [
    "import pandas as pd"
   ]
  },
  {
   "cell_type": "code",
   "execution_count": 2,
   "id": "506da56a-a3ae-4f5e-9aa4-9d842a2c1ef5",
   "metadata": {},
   "outputs": [
    {
     "name": "stdout",
     "output_type": "stream",
     "text": [
      "(126217, 7)\n",
      "(606801, 7)\n"
     ]
    }
   ],
   "source": [
    "# Load datasets\n",
    "df_1yr = pd.read_csv('all_stocks_1yr.csv')\n",
    "df_5yr = pd.read_csv('all_stocks_5yr.csv')\n",
    "\n",
    "# Display basic information\n",
    "print(df_1yr.shape)\n",
    "print(df_5yr.shape)\n"
   ]
  },
  {
   "cell_type": "code",
   "execution_count": 3,
   "id": "a703a7ab-7062-4f6b-8fc4-73159dc9ef72",
   "metadata": {},
   "outputs": [
    {
     "name": "stdout",
     "output_type": "stream",
     "text": [
      "Date        0\n",
      "Open      380\n",
      "High      206\n",
      "Low       224\n",
      "Close       0\n",
      "Volume      0\n",
      "Name        0\n",
      "dtype: int64\n",
      "Date        0\n",
      "Open      384\n",
      "High      208\n",
      "Low       227\n",
      "Close       0\n",
      "Volume    406\n",
      "Name        0\n",
      "dtype: int64\n"
     ]
    }
   ],
   "source": [
    "# Check for null values\n",
    "# Display the non-null DataFrame\n",
    "non_null_values_1yr = df_1yr.isnull().sum()\n",
    "non_null_values_5yr = df_5yr.isnull().sum()\n",
    "print(non_null_values_1yr)\n",
    "print(non_null_values_5yr)"
   ]
  },
  {
   "cell_type": "code",
   "execution_count": 4,
   "id": "38527ec1-deee-4917-a6a7-ada83cc88c7d",
   "metadata": {},
   "outputs": [],
   "source": [
    "# Impute with median values\n",
    "# For 1-year dataset\n",
    "df_1yr['Open'] = df_1yr['Open'].fillna(df_1yr['Open'].median())\n",
    "df_1yr['High'] = df_1yr['High'].fillna(df_1yr['High'].median())\n",
    "df_1yr['Low'] = df_1yr['Low'].fillna(df_1yr['Low'].median())\n",
    "df_1yr['Volume'] = df_1yr['Volume'].fillna(df_1yr['Volume'].median())\n"
   ]
  },
  {
   "cell_type": "code",
   "execution_count": 5,
   "id": "8ed35cf4-c21f-4d37-ba55-664b6cedbbca",
   "metadata": {},
   "outputs": [],
   "source": [
    "# For 5-year dataset\n",
    "df_5yr['Open'] = df_5yr['Open'].fillna(df_5yr['Open'].median())\n",
    "df_5yr['High'] = df_5yr['High'].fillna(df_5yr['High'].median())\n",
    "df_5yr['Low'] = df_5yr['Low'].fillna(df_5yr['Low'].median())\n",
    "df_5yr['Volume'] = df_5yr['Volume'].fillna(df_5yr['Volume'].median())\n"
   ]
  },
  {
   "cell_type": "code",
   "execution_count": 6,
   "id": "48538048-df51-417b-8c52-eaf12a1121ce",
   "metadata": {},
   "outputs": [
    {
     "name": "stdout",
     "output_type": "stream",
     "text": [
      "Date      0\n",
      "Open      0\n",
      "High      0\n",
      "Low       0\n",
      "Close     0\n",
      "Volume    0\n",
      "Name      0\n",
      "dtype: int64\n",
      "Date      0\n",
      "Open      0\n",
      "High      0\n",
      "Low       0\n",
      "Close     0\n",
      "Volume    0\n",
      "Name      0\n",
      "dtype: int64\n"
     ]
    }
   ],
   "source": [
    "# Check for null values after filling\n",
    "print(df_1yr.isnull().sum())\n",
    "print(df_5yr.isnull().sum())\n"
   ]
  },
  {
   "cell_type": "code",
   "execution_count": 7,
   "id": "aae17ac9-8176-4988-aaab-385a1f5d5616",
   "metadata": {},
   "outputs": [
    {
     "name": "stdout",
     "output_type": "stream",
     "text": [
      "0         False\n",
      "1         False\n",
      "2         False\n",
      "3         False\n",
      "4         False\n",
      "          ...  \n",
      "126212    False\n",
      "126213    False\n",
      "126214    False\n",
      "126215    False\n",
      "126216    False\n",
      "Length: 126217, dtype: bool\n",
      "0         False\n",
      "1         False\n",
      "2         False\n",
      "3         False\n",
      "4         False\n",
      "          ...  \n",
      "606796    False\n",
      "606797    False\n",
      "606798    False\n",
      "606799    False\n",
      "606800    False\n",
      "Length: 606801, dtype: bool\n"
     ]
    }
   ],
   "source": [
    "duplicates_1yr = df_1yr.duplicated()\n",
    "duplicates_5yr = df_5yr.duplicated()\n",
    "print(duplicates_1yr)\n",
    "print(duplicates_5yr)"
   ]
  },
  {
   "cell_type": "code",
   "execution_count": 8,
   "id": "59145c0d-40f4-40fd-b16d-db1236ab3387",
   "metadata": {},
   "outputs": [
    {
     "name": "stdout",
     "output_type": "stream",
     "text": [
      "Invalid prices: 0\n",
      "Invalid prices: 0\n",
      "Invalid volumes: 1\n",
      "Invalid volumes: 4\n"
     ]
    }
   ],
   "source": [
    "# Check for negative prices\n",
    "invalid_prices_1yr = df_1yr[(df_1yr['Open'] < 0) | (df_1yr['High'] < 0) | (df_1yr['Low'] < 0) | (df_1yr['Close'] < 0)]\n",
    "invalid_prices_5yr = df_5yr[(df_5yr['Open'] < 0) | (df_5yr['High'] < 0) | (df_5yr['Low'] < 0) | (df_5yr['Close'] < 0)]\n",
    "\n",
    "# Check for invalid volumes\n",
    "invalid_volumes_1yr = df_1yr[df_1yr['Volume'] <= 0]\n",
    "invalid_volumes_5yr = df_5yr[df_5yr['Volume'] <= 0]\n",
    "\n",
    "print(f\"Invalid prices: {len(invalid_prices_1yr)}\")\n",
    "print(f\"Invalid prices: {len(invalid_prices_5yr)}\")\n",
    "\n",
    "print(f\"Invalid volumes: {len(invalid_volumes_1yr)}\")\n",
    "print(f\"Invalid volumes: {len(invalid_volumes_5yr)}\")"
   ]
  },
  {
   "cell_type": "code",
   "execution_count": 9,
   "id": "d672e94b-a34b-4ab2-a482-6090aa745701",
   "metadata": {},
   "outputs": [
    {
     "name": "stdout",
     "output_type": "stream",
     "text": [
      "             Date   Open   High    Low  Close  Volume Name\n",
      "19691  2017-07-26  68.96  69.55  68.38  69.08       0  BHF\n",
      "              Date   Open   High    Low  Close  Volume Name\n",
      "97075   2017-07-26  59.24  59.79  58.69  69.08     0.0  BHF\n",
      "247442  2016-06-16  59.24  59.79  58.69  47.00     0.0  FTV\n",
      "247444  2016-06-20  59.24  59.79  58.69  50.00     0.0  FTV\n",
      "587245  2015-06-26  59.24  59.79  58.69  61.90     0.0  WRK\n"
     ]
    }
   ],
   "source": [
    "#Handling Invalid volumes\n",
    "# Inspect rows with invalid volumes\n",
    "invalid_volumes_rows_1yr = df_1yr[df_1yr['Volume'] <= 0]\n",
    "invalid_volumes_rows_5yr = df_5yr[df_5yr['Volume'] <= 0]\n",
    "print(invalid_volumes_rows_1yr)\n",
    "print(invalid_volumes_rows_5yr)\n",
    "\n",
    "# Drop rows where 'Volume' is 0\n",
    "df_1yr = df_1yr[df_1yr['Volume'] > 0]\n",
    "df_5yr = df_5yr[df_5yr['Volume'] > 0]\n",
    "\n",
    "#using drop() with condition\n",
    "df_1yr.drop(df_1yr[df_1yr['Volume'] == 0].index, inplace=True)\n",
    "df_5yr.drop(df_5yr[df_5yr['Volume'] == 0].index, inplace=True)\n"
   ]
  },
  {
   "cell_type": "code",
   "execution_count": 10,
   "id": "7ff16661-d5c9-4b01-9bbc-df88fd794e61",
   "metadata": {},
   "outputs": [
    {
     "name": "stdout",
     "output_type": "stream",
     "text": [
      "0\n",
      "0\n"
     ]
    }
   ],
   "source": [
    "# Verify the drop was successful\n",
    "print(df_1yr['Volume'].isnull().sum())\n",
    "print(df_5yr['Volume'].isnull().sum())"
   ]
  },
  {
   "cell_type": "code",
   "execution_count": 11,
   "id": "b2984671-e893-42d2-8b84-4dafcaaaa103",
   "metadata": {},
   "outputs": [
    {
     "name": "stdout",
     "output_type": "stream",
     "text": [
      "Empty DataFrame\n",
      "Columns: [Date, Open, High, Low, Close, Volume, Name]\n",
      "Index: []\n",
      "Empty DataFrame\n",
      "Columns: [Date, Open, High, Low, Close, Volume, Name]\n",
      "Index: []\n"
     ]
    }
   ],
   "source": [
    "zero_volumes_1yr = df_1yr[df_1yr['Volume'] == 0]\n",
    "zero_volumes_5yr = df_5yr[df_5yr['Volume'] == 0]\n",
    "print(zero_volumes_1yr)\n",
    "print(zero_volumes_5yr)"
   ]
  },
  {
   "cell_type": "code",
   "execution_count": 12,
   "id": "f44c44f1-aae3-453c-a336-dd39592cf839",
   "metadata": {},
   "outputs": [
    {
     "name": "stdout",
     "output_type": "stream",
     "text": [
      "datetime64[ns]\n",
      "datetime64[ns]\n"
     ]
    }
   ],
   "source": [
    "# Convert 'Date' column to datetime format\n",
    "df_1yr['Date'] = pd.to_datetime(df_1yr['Date'], format='%Y-%m-%d', errors='coerce')\n",
    "df_5yr['Date'] = pd.to_datetime(df_5yr['Date'], format='%Y-%m-%d', errors='coerce')\n",
    "\n",
    "# Check the types after conversion\n",
    "print(df_1yr['Date'].dtype)\n",
    "print(df_5yr['Date'].dtype)"
   ]
  },
  {
   "cell_type": "code",
   "execution_count": 13,
   "id": "dc26b7f4-8e2f-4433-9cd9-73ba4625b0e0",
   "metadata": {},
   "outputs": [
    {
     "name": "stdout",
     "output_type": "stream",
     "text": [
      "0    2016-08-12\n",
      "1    2016-08-15\n",
      "2    2016-08-16\n",
      "3    2016-08-17\n",
      "4    2016-08-18\n",
      "Name: Date, dtype: object\n",
      "0    2012-08-13\n",
      "1    2012-08-14\n",
      "2    2012-08-15\n",
      "3    2012-08-16\n",
      "4    2012-08-17\n",
      "Name: Date, dtype: object\n"
     ]
    }
   ],
   "source": [
    "\n",
    "# If needed, convert back to string format 'YYYY-MM-DD'\n",
    "df_1yr['Date'] = df_1yr['Date'].dt.strftime('%Y-%m-%d')\n",
    "df_5yr['Date'] = df_5yr['Date'].dt.strftime('%Y-%m-%d')\n",
    "\n",
    "# Verify the conversion\n",
    "print(df_1yr['Date'].head())\n",
    "print(df_5yr['Date'].head())"
   ]
  },
  {
   "cell_type": "code",
   "execution_count": 46,
   "id": "20ac8af7-f97c-418f-996c-78198f9a94ca",
   "metadata": {},
   "outputs": [],
   "source": [
    "import numpy as np\n",
    "from sklearn.preprocessing import MinMaxScaler\n",
    "from sklearn.model_selection import train_test_split\n",
    "from tensorflow.keras.models import Sequential\n",
    "from tensorflow.keras.layers import SimpleRNN, Dense, Dropout, Input\n",
    "from tensorflow.keras.optimizers import Adam"
   ]
  },
  {
   "cell_type": "code",
   "execution_count": 57,
   "id": "b7251ba1-0b01-474d-8575-2ba03a7d064e",
   "metadata": {},
   "outputs": [],
   "source": [
    "# Feature engineering for 1-year dataset (using 'Open', 'High', 'Low', 'Close', 'Volume' for prediction)\n",
    "features_1yr = ['Open', 'High', 'Low', 'Close', 'Volume']\n",
    "scaler_1yr = MinMaxScaler(feature_range=(0, 1))\n",
    "df_1yr[features_1yr] = scaler_1yr.fit_transform(df_1yr[features_1yr])\n",
    "\n",
    "# Feature engineering for 5-year dataset (using 'Open', 'High', 'Low', 'Close', 'Volume' for prediction)\n",
    "features_5yr = ['Open', 'High', 'Low', 'Close', 'Volume']\n",
    "scaler_5yr = MinMaxScaler(feature_range=(0, 1))\n",
    "df_5yr[features_5yr] = scaler_5yr.fit_transform(df_5yr[features_5yr])\n",
    "\n"
   ]
  },
  {
   "cell_type": "code",
   "execution_count": 58,
   "id": "80c16399-17d4-4a43-89d4-22765d3a956e",
   "metadata": {},
   "outputs": [],
   "source": [
    "# Creating the 'Movement' target variable (1 for price increase, 0 for price decrease)\n",
    "df_1yr['Movement'] = (df_1yr['Close'].shift(-1) > df_1yr['Close']).astype(int)\n",
    "df_5yr['Movement'] = (df_5yr['Close'].shift(-1) > df_5yr['Close']).astype(int)\n"
   ]
  },
  {
   "cell_type": "code",
   "execution_count": 59,
   "id": "2722cb6a-7283-4bab-8d6c-d744d258d314",
   "metadata": {},
   "outputs": [],
   "source": [
    "# Now, instead of predicting 'Close', we predict 'Movement'\n",
    "y_1yr = df_1yr['Movement'].iloc[sequence_length:].values  # Start from index 60 to match the sequence length\n",
    "\n",
    "# Prepare input sequences for 1-year dataset\n",
    "x_1yr = np.array([df_1yr.iloc[i-sequence_length:i][features_1yr].values for i in range(sequence_length, len(df_1yr))])\n"
   ]
  },
  {
   "cell_type": "code",
   "execution_count": 60,
   "id": "7e8329b1-2201-415d-952e-504af4531c6d",
   "metadata": {},
   "outputs": [],
   "source": [
    "# Now, instead of predicting 'Close', we predict 'Movement'\n",
    "y_1yr = df_1yr['Movement'].iloc[sequence_length:].values  # Start from index 60 to match the sequence length\n",
    "\n",
    "# Prepare input sequences for 1-year dataset\n",
    "x_1yr = np.array([df_1yr.iloc[i-sequence_length:i][features_1yr].values for i in range(sequence_length, len(df_1yr))])\n"
   ]
  },
  {
   "cell_type": "code",
   "execution_count": 61,
   "id": "123c8dda-af0f-465c-95c9-10cc9833b783",
   "metadata": {},
   "outputs": [],
   "source": [
    "# Now, instead of predicting 'Close', we predict 'Movement'\n",
    "y_5yr = df_5yr['Movement'].iloc[sequence_length:].values  # Same for 5-year data\n",
    "\n",
    "# Prepare input sequences for 5-year dataset\n",
    "x_5yr = np.array([df_5yr.iloc[i-sequence_length:i][features_5yr].values for i in range(sequence_length, len(df_5yr))])\n"
   ]
  },
  {
   "cell_type": "code",
   "execution_count": 62,
   "id": "6ba54648-ce45-4d30-a6a1-717a6edf5a94",
   "metadata": {},
   "outputs": [],
   "source": [
    "# Split the 1-year data into training and testing sets (80% training, 20% testing)\n",
    "x_train_1yr, x_test_1yr, y_train_1yr, y_test_1yr = train_test_split(x_1yr, y_1yr, test_size=0.2, random_state=42)\n"
   ]
  },
  {
   "cell_type": "code",
   "execution_count": 63,
   "id": "685fc0c1-a54d-4a8d-bcb2-d32426432f47",
   "metadata": {},
   "outputs": [],
   "source": [
    "# Split the 5-year data into training and testing sets (80% training, 20% testing)\n",
    "x_train_5yr, x_test_5yr, y_train_5yr, y_test_5yr = train_test_split(x_5yr, y_5yr, test_size=0.2, random_state=42)\n"
   ]
  },
  {
   "cell_type": "code",
   "execution_count": 65,
   "id": "9726b3ad-bd28-4724-912e-51bd06abe27b",
   "metadata": {},
   "outputs": [
    {
     "name": "stderr",
     "output_type": "stream",
     "text": [
      "/opt/anaconda3/lib/python3.11/site-packages/keras/src/layers/rnn/rnn.py:204: UserWarning: Do not pass an `input_shape`/`input_dim` argument to a layer. When using Sequential models, prefer using an `Input(shape)` object as the first layer in the model instead.\n",
      "  super().__init__(**kwargs)\n"
     ]
    },
    {
     "data": {
      "text/html": [
       "<pre style=\"white-space:pre;overflow-x:auto;line-height:normal;font-family:Menlo,'DejaVu Sans Mono',consolas,'Courier New',monospace\"><span style=\"font-weight: bold\">Model: \"sequential_15\"</span>\n",
       "</pre>\n"
      ],
      "text/plain": [
       "\u001b[1mModel: \"sequential_15\"\u001b[0m\n"
      ]
     },
     "metadata": {},
     "output_type": "display_data"
    },
    {
     "data": {
      "text/html": [
       "<pre style=\"white-space:pre;overflow-x:auto;line-height:normal;font-family:Menlo,'DejaVu Sans Mono',consolas,'Courier New',monospace\">┏━━━━━━━━━━━━━━━━━━━━━━━━━━━━━━━━━┳━━━━━━━━━━━━━━━━━━━━━━━━┳━━━━━━━━━━━━━━━┓\n",
       "┃<span style=\"font-weight: bold\"> Layer (type)                    </span>┃<span style=\"font-weight: bold\"> Output Shape           </span>┃<span style=\"font-weight: bold\">       Param # </span>┃\n",
       "┡━━━━━━━━━━━━━━━━━━━━━━━━━━━━━━━━━╇━━━━━━━━━━━━━━━━━━━━━━━━╇━━━━━━━━━━━━━━━┩\n",
       "│ lstm (<span style=\"color: #0087ff; text-decoration-color: #0087ff\">LSTM</span>)                     │ (<span style=\"color: #00d7ff; text-decoration-color: #00d7ff\">None</span>, <span style=\"color: #00af00; text-decoration-color: #00af00\">60</span>, <span style=\"color: #00af00; text-decoration-color: #00af00\">50</span>)         │        <span style=\"color: #00af00; text-decoration-color: #00af00\">11,200</span> │\n",
       "├─────────────────────────────────┼────────────────────────┼───────────────┤\n",
       "│ dropout_6 (<span style=\"color: #0087ff; text-decoration-color: #0087ff\">Dropout</span>)             │ (<span style=\"color: #00d7ff; text-decoration-color: #00d7ff\">None</span>, <span style=\"color: #00af00; text-decoration-color: #00af00\">60</span>, <span style=\"color: #00af00; text-decoration-color: #00af00\">50</span>)         │             <span style=\"color: #00af00; text-decoration-color: #00af00\">0</span> │\n",
       "├─────────────────────────────────┼────────────────────────┼───────────────┤\n",
       "│ lstm_1 (<span style=\"color: #0087ff; text-decoration-color: #0087ff\">LSTM</span>)                   │ (<span style=\"color: #00d7ff; text-decoration-color: #00d7ff\">None</span>, <span style=\"color: #00af00; text-decoration-color: #00af00\">50</span>)             │        <span style=\"color: #00af00; text-decoration-color: #00af00\">20,200</span> │\n",
       "├─────────────────────────────────┼────────────────────────┼───────────────┤\n",
       "│ dropout_7 (<span style=\"color: #0087ff; text-decoration-color: #0087ff\">Dropout</span>)             │ (<span style=\"color: #00d7ff; text-decoration-color: #00d7ff\">None</span>, <span style=\"color: #00af00; text-decoration-color: #00af00\">50</span>)             │             <span style=\"color: #00af00; text-decoration-color: #00af00\">0</span> │\n",
       "├─────────────────────────────────┼────────────────────────┼───────────────┤\n",
       "│ dense_13 (<span style=\"color: #0087ff; text-decoration-color: #0087ff\">Dense</span>)                │ (<span style=\"color: #00d7ff; text-decoration-color: #00d7ff\">None</span>, <span style=\"color: #00af00; text-decoration-color: #00af00\">1</span>)              │            <span style=\"color: #00af00; text-decoration-color: #00af00\">51</span> │\n",
       "└─────────────────────────────────┴────────────────────────┴───────────────┘\n",
       "</pre>\n"
      ],
      "text/plain": [
       "┏━━━━━━━━━━━━━━━━━━━━━━━━━━━━━━━━━┳━━━━━━━━━━━━━━━━━━━━━━━━┳━━━━━━━━━━━━━━━┓\n",
       "┃\u001b[1m \u001b[0m\u001b[1mLayer (type)                   \u001b[0m\u001b[1m \u001b[0m┃\u001b[1m \u001b[0m\u001b[1mOutput Shape          \u001b[0m\u001b[1m \u001b[0m┃\u001b[1m \u001b[0m\u001b[1m      Param #\u001b[0m\u001b[1m \u001b[0m┃\n",
       "┡━━━━━━━━━━━━━━━━━━━━━━━━━━━━━━━━━╇━━━━━━━━━━━━━━━━━━━━━━━━╇━━━━━━━━━━━━━━━┩\n",
       "│ lstm (\u001b[38;5;33mLSTM\u001b[0m)                     │ (\u001b[38;5;45mNone\u001b[0m, \u001b[38;5;34m60\u001b[0m, \u001b[38;5;34m50\u001b[0m)         │        \u001b[38;5;34m11,200\u001b[0m │\n",
       "├─────────────────────────────────┼────────────────────────┼───────────────┤\n",
       "│ dropout_6 (\u001b[38;5;33mDropout\u001b[0m)             │ (\u001b[38;5;45mNone\u001b[0m, \u001b[38;5;34m60\u001b[0m, \u001b[38;5;34m50\u001b[0m)         │             \u001b[38;5;34m0\u001b[0m │\n",
       "├─────────────────────────────────┼────────────────────────┼───────────────┤\n",
       "│ lstm_1 (\u001b[38;5;33mLSTM\u001b[0m)                   │ (\u001b[38;5;45mNone\u001b[0m, \u001b[38;5;34m50\u001b[0m)             │        \u001b[38;5;34m20,200\u001b[0m │\n",
       "├─────────────────────────────────┼────────────────────────┼───────────────┤\n",
       "│ dropout_7 (\u001b[38;5;33mDropout\u001b[0m)             │ (\u001b[38;5;45mNone\u001b[0m, \u001b[38;5;34m50\u001b[0m)             │             \u001b[38;5;34m0\u001b[0m │\n",
       "├─────────────────────────────────┼────────────────────────┼───────────────┤\n",
       "│ dense_13 (\u001b[38;5;33mDense\u001b[0m)                │ (\u001b[38;5;45mNone\u001b[0m, \u001b[38;5;34m1\u001b[0m)              │            \u001b[38;5;34m51\u001b[0m │\n",
       "└─────────────────────────────────┴────────────────────────┴───────────────┘\n"
      ]
     },
     "metadata": {},
     "output_type": "display_data"
    },
    {
     "data": {
      "text/html": [
       "<pre style=\"white-space:pre;overflow-x:auto;line-height:normal;font-family:Menlo,'DejaVu Sans Mono',consolas,'Courier New',monospace\"><span style=\"font-weight: bold\"> Total params: </span><span style=\"color: #00af00; text-decoration-color: #00af00\">31,451</span> (122.86 KB)\n",
       "</pre>\n"
      ],
      "text/plain": [
       "\u001b[1m Total params: \u001b[0m\u001b[38;5;34m31,451\u001b[0m (122.86 KB)\n"
      ]
     },
     "metadata": {},
     "output_type": "display_data"
    },
    {
     "data": {
      "text/html": [
       "<pre style=\"white-space:pre;overflow-x:auto;line-height:normal;font-family:Menlo,'DejaVu Sans Mono',consolas,'Courier New',monospace\"><span style=\"font-weight: bold\"> Trainable params: </span><span style=\"color: #00af00; text-decoration-color: #00af00\">31,451</span> (122.86 KB)\n",
       "</pre>\n"
      ],
      "text/plain": [
       "\u001b[1m Trainable params: \u001b[0m\u001b[38;5;34m31,451\u001b[0m (122.86 KB)\n"
      ]
     },
     "metadata": {},
     "output_type": "display_data"
    },
    {
     "data": {
      "text/html": [
       "<pre style=\"white-space:pre;overflow-x:auto;line-height:normal;font-family:Menlo,'DejaVu Sans Mono',consolas,'Courier New',monospace\"><span style=\"font-weight: bold\"> Non-trainable params: </span><span style=\"color: #00af00; text-decoration-color: #00af00\">0</span> (0.00 B)\n",
       "</pre>\n"
      ],
      "text/plain": [
       "\u001b[1m Non-trainable params: \u001b[0m\u001b[38;5;34m0\u001b[0m (0.00 B)\n"
      ]
     },
     "metadata": {},
     "output_type": "display_data"
    },
    {
     "name": "stdout",
     "output_type": "stream",
     "text": [
      "Epoch 1/20\n",
      "\u001b[1m3154/3154\u001b[0m \u001b[32m━━━━━━━━━━━━━━━━━━━━\u001b[0m\u001b[37m\u001b[0m \u001b[1m80s\u001b[0m 25ms/step - loss: 0.2587 - val_loss: 0.2501\n",
      "Epoch 2/20\n",
      "\u001b[1m3154/3154\u001b[0m \u001b[32m━━━━━━━━━━━━━━━━━━━━\u001b[0m\u001b[37m\u001b[0m \u001b[1m82s\u001b[0m 26ms/step - loss: 0.2512 - val_loss: 0.2512\n",
      "Epoch 3/20\n",
      "\u001b[1m3154/3154\u001b[0m \u001b[32m━━━━━━━━━━━━━━━━━━━━\u001b[0m\u001b[37m\u001b[0m \u001b[1m81s\u001b[0m 26ms/step - loss: 0.2506 - val_loss: 0.2504\n",
      "Epoch 4/20\n",
      "\u001b[1m3154/3154\u001b[0m \u001b[32m━━━━━━━━━━━━━━━━━━━━\u001b[0m\u001b[37m\u001b[0m \u001b[1m82s\u001b[0m 26ms/step - loss: 0.2503 - val_loss: 0.2498\n",
      "Epoch 5/20\n",
      "\u001b[1m3154/3154\u001b[0m \u001b[32m━━━━━━━━━━━━━━━━━━━━\u001b[0m\u001b[37m\u001b[0m \u001b[1m81s\u001b[0m 26ms/step - loss: 0.2498 - val_loss: 0.2498\n",
      "Epoch 6/20\n",
      "\u001b[1m3154/3154\u001b[0m \u001b[32m━━━━━━━━━━━━━━━━━━━━\u001b[0m\u001b[37m\u001b[0m \u001b[1m82s\u001b[0m 26ms/step - loss: 0.2499 - val_loss: 0.2498\n",
      "Epoch 7/20\n",
      "\u001b[1m3154/3154\u001b[0m \u001b[32m━━━━━━━━━━━━━━━━━━━━\u001b[0m\u001b[37m\u001b[0m \u001b[1m82s\u001b[0m 26ms/step - loss: 0.2498 - val_loss: 0.2499\n",
      "Epoch 8/20\n",
      "\u001b[1m3154/3154\u001b[0m \u001b[32m━━━━━━━━━━━━━━━━━━━━\u001b[0m\u001b[37m\u001b[0m \u001b[1m81s\u001b[0m 26ms/step - loss: 0.2499 - val_loss: 0.2499\n",
      "Epoch 9/20\n",
      "\u001b[1m3154/3154\u001b[0m \u001b[32m━━━━━━━━━━━━━━━━━━━━\u001b[0m\u001b[37m\u001b[0m \u001b[1m78s\u001b[0m 25ms/step - loss: 0.2498 - val_loss: 0.2498\n",
      "Epoch 10/20\n",
      "\u001b[1m3154/3154\u001b[0m \u001b[32m━━━━━━━━━━━━━━━━━━━━\u001b[0m\u001b[37m\u001b[0m \u001b[1m82s\u001b[0m 26ms/step - loss: 0.2497 - val_loss: 0.2502\n",
      "Epoch 11/20\n",
      "\u001b[1m3154/3154\u001b[0m \u001b[32m━━━━━━━━━━━━━━━━━━━━\u001b[0m\u001b[37m\u001b[0m \u001b[1m77s\u001b[0m 24ms/step - loss: 0.2498 - val_loss: 0.2499\n",
      "Epoch 12/20\n",
      "\u001b[1m3154/3154\u001b[0m \u001b[32m━━━━━━━━━━━━━━━━━━━━\u001b[0m\u001b[37m\u001b[0m \u001b[1m78s\u001b[0m 25ms/step - loss: 0.2497 - val_loss: 0.2499\n",
      "Epoch 13/20\n",
      "\u001b[1m3154/3154\u001b[0m \u001b[32m━━━━━━━━━━━━━━━━━━━━\u001b[0m\u001b[37m\u001b[0m \u001b[1m82s\u001b[0m 26ms/step - loss: 0.2497 - val_loss: 0.2499\n",
      "Epoch 14/20\n",
      "\u001b[1m3154/3154\u001b[0m \u001b[32m━━━━━━━━━━━━━━━━━━━━\u001b[0m\u001b[37m\u001b[0m \u001b[1m82s\u001b[0m 26ms/step - loss: 0.2497 - val_loss: 0.2499\n",
      "Epoch 15/20\n",
      "\u001b[1m3154/3154\u001b[0m \u001b[32m━━━━━━━━━━━━━━━━━━━━\u001b[0m\u001b[37m\u001b[0m \u001b[1m78s\u001b[0m 25ms/step - loss: 0.2497 - val_loss: 0.2498\n",
      "Epoch 16/20\n",
      "\u001b[1m3154/3154\u001b[0m \u001b[32m━━━━━━━━━━━━━━━━━━━━\u001b[0m\u001b[37m\u001b[0m \u001b[1m82s\u001b[0m 26ms/step - loss: 0.2497 - val_loss: 0.2498\n",
      "Epoch 17/20\n",
      "\u001b[1m3154/3154\u001b[0m \u001b[32m━━━━━━━━━━━━━━━━━━━━\u001b[0m\u001b[37m\u001b[0m \u001b[1m81s\u001b[0m 26ms/step - loss: 0.2498 - val_loss: 0.2498\n",
      "Epoch 18/20\n",
      "\u001b[1m3154/3154\u001b[0m \u001b[32m━━━━━━━━━━━━━━━━━━━━\u001b[0m\u001b[37m\u001b[0m \u001b[1m81s\u001b[0m 26ms/step - loss: 0.2496 - val_loss: 0.2499\n",
      "Epoch 19/20\n",
      "\u001b[1m3154/3154\u001b[0m \u001b[32m━━━━━━━━━━━━━━━━━━━━\u001b[0m\u001b[37m\u001b[0m \u001b[1m78s\u001b[0m 25ms/step - loss: 0.2497 - val_loss: 0.2499\n",
      "Epoch 20/20\n",
      "\u001b[1m3154/3154\u001b[0m \u001b[32m━━━━━━━━━━━━━━━━━━━━\u001b[0m\u001b[37m\u001b[0m \u001b[1m79s\u001b[0m 25ms/step - loss: 0.2497 - val_loss: 0.2498\n"
     ]
    }
   ],
   "source": [
    "from tensorflow.keras.layers import LSTM\n",
    "\n",
    "# Define the model for 1-year dataset\n",
    "model_1yr = Sequential()\n",
    "\n",
    "# Add LSTM layers\n",
    "model_1yr.add(LSTM(units=50, return_sequences=True, input_shape=(x_train_1yr.shape[1], x_train_1yr.shape[2])))\n",
    "model_1yr.add(Dropout(0.2))\n",
    "\n",
    "model_1yr.add(LSTM(units=50, return_sequences=False))\n",
    "model_1yr.add(Dropout(0.2))\n",
    "\n",
    "# Add a dense layer for the output (prediction)\n",
    "model_1yr.add(Dense(units=1))  # Single value output for regression\n",
    "\n",
    "# Compile the model\n",
    "model_1yr.compile(optimizer='adam', loss='mean_squared_error')\n",
    "\n",
    "# Summary of the model\n",
    "model_1yr.summary()\n",
    "\n",
    "# Now let's train the model\n",
    "history_1yr = model_1yr.fit(x_train_1yr, y_train_1yr, epochs=20, batch_size=32, validation_data=(x_test_1yr, y_test_1yr))\n"
   ]
  },
  {
   "cell_type": "code",
   "execution_count": 66,
   "id": "9a687e11-80cc-46af-a13c-9934a8f31846",
   "metadata": {},
   "outputs": [
    {
     "name": "stderr",
     "output_type": "stream",
     "text": [
      "/opt/anaconda3/lib/python3.11/site-packages/keras/src/layers/rnn/rnn.py:204: UserWarning: Do not pass an `input_shape`/`input_dim` argument to a layer. When using Sequential models, prefer using an `Input(shape)` object as the first layer in the model instead.\n",
      "  super().__init__(**kwargs)\n"
     ]
    },
    {
     "data": {
      "text/html": [
       "<pre style=\"white-space:pre;overflow-x:auto;line-height:normal;font-family:Menlo,'DejaVu Sans Mono',consolas,'Courier New',monospace\"><span style=\"font-weight: bold\">Model: \"sequential_16\"</span>\n",
       "</pre>\n"
      ],
      "text/plain": [
       "\u001b[1mModel: \"sequential_16\"\u001b[0m\n"
      ]
     },
     "metadata": {},
     "output_type": "display_data"
    },
    {
     "data": {
      "text/html": [
       "<pre style=\"white-space:pre;overflow-x:auto;line-height:normal;font-family:Menlo,'DejaVu Sans Mono',consolas,'Courier New',monospace\">┏━━━━━━━━━━━━━━━━━━━━━━━━━━━━━━━━━┳━━━━━━━━━━━━━━━━━━━━━━━━┳━━━━━━━━━━━━━━━┓\n",
       "┃<span style=\"font-weight: bold\"> Layer (type)                    </span>┃<span style=\"font-weight: bold\"> Output Shape           </span>┃<span style=\"font-weight: bold\">       Param # </span>┃\n",
       "┡━━━━━━━━━━━━━━━━━━━━━━━━━━━━━━━━━╇━━━━━━━━━━━━━━━━━━━━━━━━╇━━━━━━━━━━━━━━━┩\n",
       "│ lstm_2 (<span style=\"color: #0087ff; text-decoration-color: #0087ff\">LSTM</span>)                   │ (<span style=\"color: #00d7ff; text-decoration-color: #00d7ff\">None</span>, <span style=\"color: #00af00; text-decoration-color: #00af00\">60</span>, <span style=\"color: #00af00; text-decoration-color: #00af00\">50</span>)         │        <span style=\"color: #00af00; text-decoration-color: #00af00\">11,200</span> │\n",
       "├─────────────────────────────────┼────────────────────────┼───────────────┤\n",
       "│ dropout_8 (<span style=\"color: #0087ff; text-decoration-color: #0087ff\">Dropout</span>)             │ (<span style=\"color: #00d7ff; text-decoration-color: #00d7ff\">None</span>, <span style=\"color: #00af00; text-decoration-color: #00af00\">60</span>, <span style=\"color: #00af00; text-decoration-color: #00af00\">50</span>)         │             <span style=\"color: #00af00; text-decoration-color: #00af00\">0</span> │\n",
       "├─────────────────────────────────┼────────────────────────┼───────────────┤\n",
       "│ lstm_3 (<span style=\"color: #0087ff; text-decoration-color: #0087ff\">LSTM</span>)                   │ (<span style=\"color: #00d7ff; text-decoration-color: #00d7ff\">None</span>, <span style=\"color: #00af00; text-decoration-color: #00af00\">50</span>)             │        <span style=\"color: #00af00; text-decoration-color: #00af00\">20,200</span> │\n",
       "├─────────────────────────────────┼────────────────────────┼───────────────┤\n",
       "│ dropout_9 (<span style=\"color: #0087ff; text-decoration-color: #0087ff\">Dropout</span>)             │ (<span style=\"color: #00d7ff; text-decoration-color: #00d7ff\">None</span>, <span style=\"color: #00af00; text-decoration-color: #00af00\">50</span>)             │             <span style=\"color: #00af00; text-decoration-color: #00af00\">0</span> │\n",
       "├─────────────────────────────────┼────────────────────────┼───────────────┤\n",
       "│ dense_14 (<span style=\"color: #0087ff; text-decoration-color: #0087ff\">Dense</span>)                │ (<span style=\"color: #00d7ff; text-decoration-color: #00d7ff\">None</span>, <span style=\"color: #00af00; text-decoration-color: #00af00\">1</span>)              │            <span style=\"color: #00af00; text-decoration-color: #00af00\">51</span> │\n",
       "└─────────────────────────────────┴────────────────────────┴───────────────┘\n",
       "</pre>\n"
      ],
      "text/plain": [
       "┏━━━━━━━━━━━━━━━━━━━━━━━━━━━━━━━━━┳━━━━━━━━━━━━━━━━━━━━━━━━┳━━━━━━━━━━━━━━━┓\n",
       "┃\u001b[1m \u001b[0m\u001b[1mLayer (type)                   \u001b[0m\u001b[1m \u001b[0m┃\u001b[1m \u001b[0m\u001b[1mOutput Shape          \u001b[0m\u001b[1m \u001b[0m┃\u001b[1m \u001b[0m\u001b[1m      Param #\u001b[0m\u001b[1m \u001b[0m┃\n",
       "┡━━━━━━━━━━━━━━━━━━━━━━━━━━━━━━━━━╇━━━━━━━━━━━━━━━━━━━━━━━━╇━━━━━━━━━━━━━━━┩\n",
       "│ lstm_2 (\u001b[38;5;33mLSTM\u001b[0m)                   │ (\u001b[38;5;45mNone\u001b[0m, \u001b[38;5;34m60\u001b[0m, \u001b[38;5;34m50\u001b[0m)         │        \u001b[38;5;34m11,200\u001b[0m │\n",
       "├─────────────────────────────────┼────────────────────────┼───────────────┤\n",
       "│ dropout_8 (\u001b[38;5;33mDropout\u001b[0m)             │ (\u001b[38;5;45mNone\u001b[0m, \u001b[38;5;34m60\u001b[0m, \u001b[38;5;34m50\u001b[0m)         │             \u001b[38;5;34m0\u001b[0m │\n",
       "├─────────────────────────────────┼────────────────────────┼───────────────┤\n",
       "│ lstm_3 (\u001b[38;5;33mLSTM\u001b[0m)                   │ (\u001b[38;5;45mNone\u001b[0m, \u001b[38;5;34m50\u001b[0m)             │        \u001b[38;5;34m20,200\u001b[0m │\n",
       "├─────────────────────────────────┼────────────────────────┼───────────────┤\n",
       "│ dropout_9 (\u001b[38;5;33mDropout\u001b[0m)             │ (\u001b[38;5;45mNone\u001b[0m, \u001b[38;5;34m50\u001b[0m)             │             \u001b[38;5;34m0\u001b[0m │\n",
       "├─────────────────────────────────┼────────────────────────┼───────────────┤\n",
       "│ dense_14 (\u001b[38;5;33mDense\u001b[0m)                │ (\u001b[38;5;45mNone\u001b[0m, \u001b[38;5;34m1\u001b[0m)              │            \u001b[38;5;34m51\u001b[0m │\n",
       "└─────────────────────────────────┴────────────────────────┴───────────────┘\n"
      ]
     },
     "metadata": {},
     "output_type": "display_data"
    },
    {
     "data": {
      "text/html": [
       "<pre style=\"white-space:pre;overflow-x:auto;line-height:normal;font-family:Menlo,'DejaVu Sans Mono',consolas,'Courier New',monospace\"><span style=\"font-weight: bold\"> Total params: </span><span style=\"color: #00af00; text-decoration-color: #00af00\">31,451</span> (122.86 KB)\n",
       "</pre>\n"
      ],
      "text/plain": [
       "\u001b[1m Total params: \u001b[0m\u001b[38;5;34m31,451\u001b[0m (122.86 KB)\n"
      ]
     },
     "metadata": {},
     "output_type": "display_data"
    },
    {
     "data": {
      "text/html": [
       "<pre style=\"white-space:pre;overflow-x:auto;line-height:normal;font-family:Menlo,'DejaVu Sans Mono',consolas,'Courier New',monospace\"><span style=\"font-weight: bold\"> Trainable params: </span><span style=\"color: #00af00; text-decoration-color: #00af00\">31,451</span> (122.86 KB)\n",
       "</pre>\n"
      ],
      "text/plain": [
       "\u001b[1m Trainable params: \u001b[0m\u001b[38;5;34m31,451\u001b[0m (122.86 KB)\n"
      ]
     },
     "metadata": {},
     "output_type": "display_data"
    },
    {
     "data": {
      "text/html": [
       "<pre style=\"white-space:pre;overflow-x:auto;line-height:normal;font-family:Menlo,'DejaVu Sans Mono',consolas,'Courier New',monospace\"><span style=\"font-weight: bold\"> Non-trainable params: </span><span style=\"color: #00af00; text-decoration-color: #00af00\">0</span> (0.00 B)\n",
       "</pre>\n"
      ],
      "text/plain": [
       "\u001b[1m Non-trainable params: \u001b[0m\u001b[38;5;34m0\u001b[0m (0.00 B)\n"
      ]
     },
     "metadata": {},
     "output_type": "display_data"
    },
    {
     "name": "stdout",
     "output_type": "stream",
     "text": [
      "Epoch 1/20\n",
      "\u001b[1m15169/15169\u001b[0m \u001b[32m━━━━━━━━━━━━━━━━━━━━\u001b[0m\u001b[37m\u001b[0m \u001b[1m378s\u001b[0m 25ms/step - loss: 0.2527 - val_loss: 0.2497\n",
      "Epoch 2/20\n",
      "\u001b[1m15169/15169\u001b[0m \u001b[32m━━━━━━━━━━━━━━━━━━━━\u001b[0m\u001b[37m\u001b[0m \u001b[1m385s\u001b[0m 25ms/step - loss: 0.2498 - val_loss: 0.2497\n",
      "Epoch 3/20\n",
      "\u001b[1m15169/15169\u001b[0m \u001b[32m━━━━━━━━━━━━━━━━━━━━\u001b[0m\u001b[37m\u001b[0m \u001b[1m1572s\u001b[0m 104ms/step - loss: 0.2498 - val_loss: 0.2497\n",
      "Epoch 4/20\n",
      "\u001b[1m15169/15169\u001b[0m \u001b[32m━━━━━━━━━━━━━━━━━━━━\u001b[0m\u001b[37m\u001b[0m \u001b[1m28543s\u001b[0m 2s/step - loss: 0.2496 - val_loss: 0.2497\n",
      "Epoch 5/20\n",
      "\u001b[1m15169/15169\u001b[0m \u001b[32m━━━━━━━━━━━━━━━━━━━━\u001b[0m\u001b[37m\u001b[0m \u001b[1m59771s\u001b[0m 4s/step - loss: 0.2497 - val_loss: 0.2497\n",
      "Epoch 6/20\n",
      "\u001b[1m15169/15169\u001b[0m \u001b[32m━━━━━━━━━━━━━━━━━━━━\u001b[0m\u001b[37m\u001b[0m \u001b[1m40998s\u001b[0m 3s/step - loss: 0.2497 - val_loss: 0.2497\n",
      "Epoch 7/20\n",
      "\u001b[1m15169/15169\u001b[0m \u001b[32m━━━━━━━━━━━━━━━━━━━━\u001b[0m\u001b[37m\u001b[0m \u001b[1m49900s\u001b[0m 3s/step - loss: 0.2496 - val_loss: 0.2497\n",
      "Epoch 8/20\n",
      "\u001b[1m15169/15169\u001b[0m \u001b[32m━━━━━━━━━━━━━━━━━━━━\u001b[0m\u001b[37m\u001b[0m \u001b[1m45067s\u001b[0m 3s/step - loss: 0.2496 - val_loss: 0.2497\n",
      "Epoch 9/20\n",
      "\u001b[1m15169/15169\u001b[0m \u001b[32m━━━━━━━━━━━━━━━━━━━━\u001b[0m\u001b[37m\u001b[0m \u001b[1m395s\u001b[0m 26ms/step - loss: 0.2497 - val_loss: 0.2497\n",
      "Epoch 10/20\n",
      "\u001b[1m15169/15169\u001b[0m \u001b[32m━━━━━━━━━━━━━━━━━━━━\u001b[0m\u001b[37m\u001b[0m \u001b[1m393s\u001b[0m 26ms/step - loss: 0.2496 - val_loss: 0.2501\n",
      "Epoch 11/20\n",
      "\u001b[1m15169/15169\u001b[0m \u001b[32m━━━━━━━━━━━━━━━━━━━━\u001b[0m\u001b[37m\u001b[0m \u001b[1m407s\u001b[0m 27ms/step - loss: 0.2496 - val_loss: 0.2497\n",
      "Epoch 12/20\n",
      "\u001b[1m15169/15169\u001b[0m \u001b[32m━━━━━━━━━━━━━━━━━━━━\u001b[0m\u001b[37m\u001b[0m \u001b[1m404s\u001b[0m 27ms/step - loss: 0.2497 - val_loss: 0.2497\n",
      "Epoch 13/20\n",
      "\u001b[1m15169/15169\u001b[0m \u001b[32m━━━━━━━━━━━━━━━━━━━━\u001b[0m\u001b[37m\u001b[0m \u001b[1m385s\u001b[0m 25ms/step - loss: 0.2496 - val_loss: 0.2497\n",
      "Epoch 14/20\n",
      "\u001b[1m15169/15169\u001b[0m \u001b[32m━━━━━━━━━━━━━━━━━━━━\u001b[0m\u001b[37m\u001b[0m \u001b[1m399s\u001b[0m 26ms/step - loss: 0.2497 - val_loss: 0.2497\n",
      "Epoch 15/20\n",
      "\u001b[1m15169/15169\u001b[0m \u001b[32m━━━━━━━━━━━━━━━━━━━━\u001b[0m\u001b[37m\u001b[0m \u001b[1m361s\u001b[0m 24ms/step - loss: 0.2497 - val_loss: 0.2497\n",
      "Epoch 16/20\n",
      "\u001b[1m15169/15169\u001b[0m \u001b[32m━━━━━━━━━━━━━━━━━━━━\u001b[0m\u001b[37m\u001b[0m \u001b[1m304s\u001b[0m 20ms/step - loss: 0.2496 - val_loss: 0.2497\n",
      "Epoch 17/20\n",
      "\u001b[1m15169/15169\u001b[0m \u001b[32m━━━━━━━━━━━━━━━━━━━━\u001b[0m\u001b[37m\u001b[0m \u001b[1m298s\u001b[0m 20ms/step - loss: 0.2496 - val_loss: 0.2497\n",
      "Epoch 18/20\n",
      "\u001b[1m15169/15169\u001b[0m \u001b[32m━━━━━━━━━━━━━━━━━━━━\u001b[0m\u001b[37m\u001b[0m \u001b[1m299s\u001b[0m 20ms/step - loss: 0.2496 - val_loss: 0.2497\n",
      "Epoch 19/20\n",
      "\u001b[1m15169/15169\u001b[0m \u001b[32m━━━━━━━━━━━━━━━━━━━━\u001b[0m\u001b[37m\u001b[0m \u001b[1m301s\u001b[0m 20ms/step - loss: 0.2497 - val_loss: 0.2497\n",
      "Epoch 20/20\n",
      "\u001b[1m15169/15169\u001b[0m \u001b[32m━━━━━━━━━━━━━━━━━━━━\u001b[0m\u001b[37m\u001b[0m \u001b[1m308s\u001b[0m 20ms/step - loss: 0.2497 - val_loss: 0.2497\n"
     ]
    }
   ],
   "source": [
    "# Define the model for 5-year dataset\n",
    "model_5yr = Sequential()\n",
    "\n",
    "# Add LSTM layers\n",
    "model_5yr.add(LSTM(units=50, return_sequences=True, input_shape=(x_train_5yr.shape[1], x_train_5yr.shape[2])))\n",
    "model_5yr.add(Dropout(0.2))\n",
    "\n",
    "model_5yr.add(LSTM(units=50, return_sequences=False))\n",
    "model_5yr.add(Dropout(0.2))\n",
    "\n",
    "# Add a dense layer for the output (prediction)\n",
    "model_5yr.add(Dense(units=1))  # Single value output for regression\n",
    "\n",
    "# Compile the model\n",
    "model_5yr.compile(optimizer='adam', loss='mean_squared_error')\n",
    "\n",
    "# Summary of the model\n",
    "model_5yr.summary()\n",
    "\n",
    "# Now let's train the model\n",
    "history_5yr = model_5yr.fit(x_train_5yr, y_train_5yr, epochs=20, batch_size=32, validation_data=(x_test_5yr, y_test_5yr))\n"
   ]
  },
  {
   "cell_type": "code",
   "execution_count": 67,
   "id": "56cf123e-d55b-4652-adf1-585aa381b507",
   "metadata": {},
   "outputs": [
    {
     "name": "stdout",
     "output_type": "stream",
     "text": [
      "\u001b[1m789/789\u001b[0m \u001b[32m━━━━━━━━━━━━━━━━━━━━\u001b[0m\u001b[37m\u001b[0m \u001b[1m4s\u001b[0m 5ms/step - loss: 0.2499\n",
      "Mean Squared Error for 1-year dataset: 0.2498241662979126\n",
      "\u001b[1m3793/3793\u001b[0m \u001b[32m━━━━━━━━━━━━━━━━━━━━\u001b[0m\u001b[37m\u001b[0m \u001b[1m17s\u001b[0m 4ms/step - loss: 0.2497\n",
      "Mean Squared Error for 5-year dataset: 0.24968603253364563\n"
     ]
    }
   ],
   "source": [
    "# Evaluate the 1-year model\n",
    "mse_1yr = model_1yr.evaluate(x_test_1yr, y_test_1yr)\n",
    "print(\"Mean Squared Error for 1-year dataset:\", mse_1yr)\n",
    "\n",
    "# Evaluate the 5-year model\n",
    "mse_5yr = model_5yr.evaluate(x_test_5yr, y_test_5yr)\n",
    "print(\"Mean Squared Error for 5-year dataset:\", mse_5yr)\n"
   ]
  },
  {
   "cell_type": "code",
   "execution_count": 76,
   "id": "a197f6c8-18e1-4445-928a-49cbe8bff20f",
   "metadata": {},
   "outputs": [
    {
     "name": "stdout",
     "output_type": "stream",
     "text": [
      "\u001b[1m1/1\u001b[0m \u001b[32m━━━━━━━━━━━━━━━━━━━━\u001b[0m\u001b[37m\u001b[0m \u001b[1m0s\u001b[0m 132ms/step\n"
     ]
    },
    {
     "name": "stderr",
     "output_type": "stream",
     "text": [
      "/opt/anaconda3/lib/python3.11/site-packages/sklearn/base.py:439: UserWarning: X does not have valid feature names, but MinMaxScaler was fitted with feature names\n",
      "  warnings.warn(\n",
      "/opt/anaconda3/lib/python3.11/site-packages/sklearn/base.py:439: UserWarning: X does not have valid feature names, but MinMaxScaler was fitted with feature names\n",
      "  warnings.warn(\n"
     ]
    },
    {
     "name": "stdout",
     "output_type": "stream",
     "text": [
      "\u001b[1m1/1\u001b[0m \u001b[32m━━━━━━━━━━━━━━━━━━━━\u001b[0m\u001b[37m\u001b[0m \u001b[1m0s\u001b[0m 100ms/step\n",
      "1-Year Dataset Prediction: [[0.4966564]]\n",
      "5-Year Dataset Prediction: [[0.5240886]]\n"
     ]
    }
   ],
   "source": [
    "import numpy as np\n",
    "\n",
    "# Step 1: Generate random data for prediction (5 features: Open, High, Low, Close, Volume)\n",
    "# Make sure the range of the random data matches the expected feature ranges\n",
    "random_data_1yr = np.random.rand(1, 5)  # 1 sample, 5 features (Open, High, Low, Close, Volume)\n",
    "random_data_5yr = np.random.rand(1, 5)  # Similar for 5-year dataset\n",
    "\n",
    "# Step 2: Scale the random data using the same scaler used for training\n",
    "scaled_random_data_1yr = scaler_1yr.transform(random_data_1yr)\n",
    "scaled_random_data_5yr = scaler_5yr.transform(random_data_5yr)\n",
    "\n",
    "# Step 3: Reshape the data to match the expected input shape for the model (3D shape for LSTM)\n",
    "scaled_random_data_1yr = scaled_random_data_1yr.reshape(1, 1, 5)  # 1 sample, 1 timestep, 5 features\n",
    "scaled_random_data_5yr = scaled_random_data_5yr.reshape(1, 1, 5)\n",
    "\n",
    "# Step 4: Make predictions with the models\n",
    "prediction_1yr = model_1yr.predict(scaled_random_data_1yr)\n",
    "prediction_5yr = model_5yr.predict(scaled_random_data_5yr)\n",
    "\n",
    "# Step 5: Output the predictions\n",
    "print(\"1-Year Dataset Prediction:\", prediction_1yr)\n",
    "print(\"5-Year Dataset Prediction:\", prediction_5yr)\n"
   ]
  }
 ],
 "metadata": {
  "kernelspec": {
   "display_name": "Python 3 (ipykernel)",
   "language": "python",
   "name": "python3"
  },
  "language_info": {
   "codemirror_mode": {
    "name": "ipython",
    "version": 3
   },
   "file_extension": ".py",
   "mimetype": "text/x-python",
   "name": "python",
   "nbconvert_exporter": "python",
   "pygments_lexer": "ipython3",
   "version": "3.11.7"
  }
 },
 "nbformat": 4,
 "nbformat_minor": 5
}
